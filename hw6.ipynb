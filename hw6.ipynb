{
 "cells": [
  {
   "cell_type": "markdown",
   "id": "78fd37ed",
   "metadata": {},
   "source": [
    "# pytorch"
   ]
  },
  {
   "cell_type": "markdown",
   "id": "0db99d62",
   "metadata": {},
   "source": [
    "* 아래 사이트를 참조하여 pytorch를 설치하세요.  \n",
    "https://pytorch.org/\n",
    "* 다른 프레임워크(예컨데 텐서플로우, 케라스)에 이미 익숙하다면 그것을 사용하여도 좋습니다. 다만 강의는 pytorch를 기반으로 진행합니다."
   ]
  },
  {
   "cell_type": "markdown",
   "id": "e75c5838",
   "metadata": {},
   "source": []
  },
  {
   "cell_type": "markdown",
   "id": "2034f828",
   "metadata": {},
   "source": [
    "# MNIST\n",
    "* 2개의 히든 레이어를 도입한다.\n",
    "* input layer는 28*28개의 노드\n",
    "* hidden layer의 노드의 수는 자유롭게 설정해도 좋다. \n",
    "* output은 10개(0~9)로 설정한다."
   ]
  },
  {
   "cell_type": "markdown",
   "id": "849c9c1d",
   "metadata": {},
   "source": [
    "#### test data를 예측하여 정확도를 최대가 되도록 학습하여라. \n",
    "* 제출 시 test data의 정확도를 출력하여 제출하세요."
   ]
  },
  {
   "cell_type": "code",
   "execution_count": 1,
   "id": "8d1a8c4d",
   "metadata": {},
   "outputs": [],
   "source": [
    "import numpy as np\n",
    "import matplotlib.pyplot as plt\n",
    "import tensorflow as tf"
   ]
  },
  {
   "cell_type": "code",
   "execution_count": 2,
   "id": "135ff1f6",
   "metadata": {},
   "outputs": [],
   "source": [
    "mnist = tf.keras.datasets.mnist\n",
    "\n",
    "(x_train, y_train), (x_test, y_test) = mnist.load_data()\n",
    "x_train, x_test = x_train / 255.0, x_test / 255.0"
   ]
  },
  {
   "cell_type": "code",
   "execution_count": 3,
   "id": "4f53652b",
   "metadata": {},
   "outputs": [
    {
     "data": {
      "text/plain": [
       "<matplotlib.image.AxesImage at 0x2ab32dda190>"
      ]
     },
     "execution_count": 3,
     "metadata": {},
     "output_type": "execute_result"
    },
    {
     "data": {
      "image/png": "[encoded data removed]",
      "text/plain": [
       "<Figure size 432x288 with 1 Axes>"
      ]
     },
     "metadata": {
      "needs_background": "light"
     },
     "output_type": "display_data"
    }
   ],
   "source": [
    "plt.imshow(x_train[0])"
   ]
  },
  {
   "cell_type": "code",
   "execution_count": 4,
   "id": "930ed5c8",
   "metadata": {},
   "outputs": [],
   "source": [
    "class Mish(tf.keras.layers.Activation):\n",
    "    def __init__(self, activation, **kwargs):\n",
    "        super(Mish, self).__init__(activation, **kwargs)\n",
    "        self.__name__ = 'Mish'"
   ]
  },
  {
   "cell_type": "code",
   "execution_count": 5,
   "id": "58ead3ff",
   "metadata": {},
   "outputs": [],
   "source": [
    "def mish(x):\n",
    "    return x * tf.keras.backend.tanh(tf.keras.backend.softplus(x))"
   ]
  },
  {
   "cell_type": "code",
   "execution_count": 7,
   "id": "6de5fb91",
   "metadata": {},
   "outputs": [
    {
     "data": {
      "text/plain": [
       "[<matplotlib.lines.Line2D at 0x2ab33710fd0>]"
      ]
     },
     "execution_count": 7,
     "metadata": {},
     "output_type": "execute_result"
    },
    {
     "data": {
      "image/png": "[encoded data removed]",
      "text/plain": [
       "<Figure size 432x288 with 1 Axes>"
      ]
     },
     "metadata": {
      "needs_background": "light"
     },
     "output_type": "display_data"
    }
   ],
   "source": [
    "plt.plot(np.linspace(-5,5,1000),[mish(x) for x in np.linspace(-5,5,1000)]) #relu와 유사한 activation function"
   ]
  },
  {
   "cell_type": "code",
   "execution_count": 8,
   "id": "3f9aa240",
   "metadata": {},
   "outputs": [],
   "source": [
    "tf.keras.utils.get_custom_objects().update({'mish': Mish(mish)})"
   ]
  },
  {
   "cell_type": "code",
   "execution_count": 9,
   "id": "5506ef23",
   "metadata": {},
   "outputs": [],
   "source": [
    "model = tf.keras.Sequential([\n",
    "    tf.keras.layers.Flatten(input_shape=(28, 28)),\n",
    "    tf.keras.layers.Dense(128, activation='mish'),\n",
    "    tf.keras.layers.Dense(64, activation='mish'),\n",
    "    tf.keras.layers.Dense(10)\n",
    "])"
   ]
  },
  {
   "cell_type": "code",
   "execution_count": 10,
   "id": "3fe61df9",
   "metadata": {},
   "outputs": [],
   "source": [
    "model2 = tf.keras.Sequential([\n",
    "    tf.keras.layers.Flatten(input_shape=(28, 28)),\n",
    "    tf.keras.layers.Dense(128, activation='relu'),\n",
    "    tf.keras.layers.Dense(64, activation='relu'),\n",
    "    tf.keras.layers.Dense(10)\n",
    "])"
   ]
  },
  {
   "cell_type": "code",
   "execution_count": 11,
   "id": "3ca4c7ca",
   "metadata": {},
   "outputs": [],
   "source": [
    "model.compile(optimizer='adam',\n",
    "              loss=tf.keras.losses.SparseCategoricalCrossentropy(from_logits=True),\n",
    "              metrics=['accuracy'])"
   ]
  },
  {
   "cell_type": "code",
   "execution_count": 12,
   "id": "e9be1b9a",
   "metadata": {},
   "outputs": [],
   "source": [
    "model2.compile(optimizer='adam',\n",
    "              loss=tf.keras.losses.SparseCategoricalCrossentropy(from_logits=True),\n",
    "              metrics=['accuracy'])"
   ]
  },
  {
   "cell_type": "code",
   "execution_count": 13,
   "id": "f589fad6",
   "metadata": {},
   "outputs": [
    {
     "name": "stdout",
     "output_type": "stream",
     "text": [
      "Epoch 1/10\n",
      "1844/1844 [==============================] - 6s 3ms/step - loss: 0.2318 - accuracy: 0.9317 - val_loss: 0.1528 - val_accuracy: 0.9570\n",
      "Epoch 2/10\n",
      "1844/1844 [==============================] - 5s 3ms/step - loss: 0.0978 - accuracy: 0.9703 - val_loss: 0.0931 - val_accuracy: 0.9760\n",
      "Epoch 3/10\n",
      "1844/1844 [==============================] - 5s 3ms/step - loss: 0.0657 - accuracy: 0.9791 - val_loss: 0.0947 - val_accuracy: 0.9740\n",
      "Epoch 4/10\n",
      "1844/1844 [==============================] - 5s 3ms/step - loss: 0.0473 - accuracy: 0.9843 - val_loss: 0.0831 - val_accuracy: 0.9770\n",
      "Epoch 5/10\n",
      "1844/1844 [==============================] - 5s 3ms/step - loss: 0.0354 - accuracy: 0.9883 - val_loss: 0.1014 - val_accuracy: 0.9730\n",
      "Epoch 6/10\n",
      "1844/1844 [==============================] - 5s 3ms/step - loss: 0.0272 - accuracy: 0.9904 - val_loss: 0.0887 - val_accuracy: 0.9800\n",
      "Epoch 7/10\n",
      "1844/1844 [==============================] - 5s 3ms/step - loss: 0.0232 - accuracy: 0.9919 - val_loss: 0.1287 - val_accuracy: 0.9750\n",
      "Epoch 8/10\n",
      "1844/1844 [==============================] - 5s 3ms/step - loss: 0.0190 - accuracy: 0.9935 - val_loss: 0.1276 - val_accuracy: 0.9730\n",
      "Epoch 9/10\n",
      "1844/1844 [==============================] - 5s 3ms/step - loss: 0.0165 - accuracy: 0.9946 - val_loss: 0.1318 - val_accuracy: 0.9690\n",
      "Epoch 10/10\n",
      "1844/1844 [==============================] - 5s 3ms/step - loss: 0.0171 - accuracy: 0.9940 - val_loss: 0.1070 - val_accuracy: 0.9810\n"
     ]
    }
   ],
   "source": [
    "history=model.fit(x_train[1000:], y_train[1000:], epochs=10, validation_data=(x_train[:1000], y_train[:1000])) #나머지 1000개는 validation data로 사용"
   ]
  },
  {
   "cell_type": "code",
   "execution_count": 14,
   "id": "f27060ba",
   "metadata": {},
   "outputs": [
    {
     "name": "stdout",
     "output_type": "stream",
     "text": [
      "Epoch 1/10\n",
      "1844/1844 [==============================] - ETA: 0s - loss: 0.2430 - accuracy: 0.92 - 5s 3ms/step - loss: 0.2429 - accuracy: 0.9295 - val_loss: 0.1555 - val_accuracy: 0.9490\n",
      "Epoch 2/10\n",
      "1844/1844 [==============================] - 5s 3ms/step - loss: 0.1032 - accuracy: 0.9681 - val_loss: 0.1206 - val_accuracy: 0.9630\n",
      "Epoch 3/10\n",
      "1844/1844 [==============================] - 5s 2ms/step - loss: 0.0733 - accuracy: 0.9773 - val_loss: 0.1053 - val_accuracy: 0.9710\n",
      "Epoch 4/10\n",
      "1844/1844 [==============================] - 5s 3ms/step - loss: 0.0565 - accuracy: 0.9819 - val_loss: 0.1018 - val_accuracy: 0.9740\n",
      "Epoch 5/10\n",
      "1844/1844 [==============================] - 5s 3ms/step - loss: 0.0433 - accuracy: 0.9859 - val_loss: 0.0834 - val_accuracy: 0.9750\n",
      "Epoch 6/10\n",
      "1844/1844 [==============================] - 5s 3ms/step - loss: 0.0352 - accuracy: 0.9879 - val_loss: 0.1202 - val_accuracy: 0.9700\n",
      "Epoch 7/10\n",
      "1844/1844 [==============================] - 5s 3ms/step - loss: 0.0291 - accuracy: 0.9903 - val_loss: 0.1079 - val_accuracy: 0.9760\n",
      "Epoch 8/10\n",
      "1844/1844 [==============================] - 5s 3ms/step - loss: 0.0249 - accuracy: 0.9916 - val_loss: 0.1007 - val_accuracy: 0.9780\n",
      "Epoch 9/10\n",
      "1844/1844 [==============================] - 5s 3ms/step - loss: 0.0213 - accuracy: 0.9928 - val_loss: 0.1033 - val_accuracy: 0.9800\n",
      "Epoch 10/10\n",
      "1844/1844 [==============================] - 5s 3ms/step - loss: 0.0194 - accuracy: 0.9934 - val_loss: 0.1471 - val_accuracy: 0.9720\n"
     ]
    }
   ],
   "source": [
    "history2=model2.fit(x_train[1000:], y_train[1000:], epochs=10, validation_data=(x_train[:1000], y_train[:1000]))"
   ]
  },
  {
   "cell_type": "code",
   "execution_count": 15,
   "id": "dc4e2e39",
   "metadata": {},
   "outputs": [
    {
     "data": {
      "image/png": "[encoded data removed]",
      "text/plain": [
       "<Figure size 432x288 with 1 Axes>"
      ]
     },
     "metadata": {
      "needs_background": "light"
     },
     "output_type": "display_data"
    }
   ],
   "source": [
    "loss=history.history['loss']\n",
    "val_loss=history.history['val_loss']\n",
    "epochs=range(1, len(loss)+1)\n",
    "plt.plot(epochs, loss, 'bo', label='Training loss')\n",
    "plt.plot(epochs, val_loss, 'b', label='Validation loss')\n",
    "plt.xlabel('Epochs')\n",
    "plt.ylabel('Loss')\n",
    "plt.title('Training and Validation loss (RELU)')\n",
    "plt.legend()\n",
    "plt.show()"
   ]
  },
  {
   "cell_type": "code",
   "execution_count": 16,
   "id": "add9881a",
   "metadata": {},
   "outputs": [
    {
     "data": {
      "image/png": "[encoded data removed]",
      "text/plain": [
       "<Figure size 432x288 with 1 Axes>"
      ]
     },
     "metadata": {
      "needs_background": "light"
     },
     "output_type": "display_data"
    }
   ],
   "source": [
    "loss2=history2.history['loss']\n",
    "val_loss2=history2.history['val_loss']\n",
    "epochs=range(1, len(loss)+1)\n",
    "plt.plot(epochs, loss2, 'ro', label='Training loss')\n",
    "plt.plot(epochs, val_loss2, 'r', label='Validation loss')\n",
    "plt.xlabel('Epochs')\n",
    "plt.ylabel('Loss')\n",
    "plt.title('Training and Validation loss (MISH)')\n",
    "plt.legend()\n",
    "plt.show()"
   ]
  },
  {
   "cell_type": "markdown",
   "id": "6f3925d1",
   "metadata": {},
   "source": [
    "## mish activation\n",
    "https://arxiv.org/abs/1908.08681\n",
    "\n",
    "relu에 비해 계산량이 많지만 loss landscape를 smoothing 하는 효과가 있다고 주장 -> 초기값에 보다 덜 민감하고 안정적임,\n",
    "\n",
    "실제 학습을 시켜보니 relu에 비해 validation loss가 일정하게 감소하고 overfitting도 덜함 \n",
    " "
   ]
  },
  {
   "cell_type": "markdown",
   "id": "235781b7",
   "metadata": {},
   "source": [
    "# test data에 대한 정확도"
   ]
  },
  {
   "cell_type": "code",
   "execution_count": 17,
   "id": "870a2226",
   "metadata": {},
   "outputs": [
    {
     "name": "stdout",
     "output_type": "stream",
     "text": [
      "313/313 - 0s - loss: 0.0830 - accuracy: 0.9795\n",
      "\n",
      "Test accuracy(RELU): 0.9794999957084656\n"
     ]
    }
   ],
   "source": [
    "test_loss, test_acc = model.evaluate(x_test,  y_test, verbose=2)\n",
    "\n",
    "print('\\nTest accuracy(RELU):', test_acc)"
   ]
  },
  {
   "cell_type": "code",
   "execution_count": 18,
   "id": "d41cece0",
   "metadata": {},
   "outputs": [
    {
     "name": "stdout",
     "output_type": "stream",
     "text": [
      "313/313 - 0s - loss: 0.1115 - accuracy: 0.9752\n",
      "\n",
      "Test accuracy(MISH): 0.9751999974250793\n"
     ]
    }
   ],
   "source": [
    "test_loss2, test_acc2 = model2.evaluate(x_test,  y_test, verbose=2)\n",
    "\n",
    "print('\\nTest accuracy(MISH):', test_acc2)"
   ]
  },
  {
   "cell_type": "code",
   "execution_count": null,
   "id": "1364a3e5",
   "metadata": {},
   "outputs": [],
   "source": []
  }
 ],
 "metadata": {
  "kernelspec": {
   "display_name": "Python 3 (ipykernel)",
   "language": "python",
   "name": "python3"
  },
  "language_info": {
   "codemirror_mode": {
    "name": "ipython",
    "version": 3
   },
   "file_extension": ".py",
   "mimetype": "text/x-python",
   "name": "python",
   "nbconvert_exporter": "python",
   "pygments_lexer": "ipython3",
   "version": "3.9.7"
  }
 },
 "nbformat": 4,
 "nbformat_minor": 5
}
