{
 "cells": [
  {
   "cell_type": "markdown",
   "metadata": {},
   "source": [
    "# 1. Titanic (Regression)\n",
    "* https://www.kaggle.com/c/titanic/overview\n",
    "* 출력을 csv파일로 저장하여 함께 제출\n",
    "* submit predictions에 테스트해 볼 것!\n",
    "* 어떠한 알고리즘을 사용하여도 무방함\n",
    "* 참조: https://www.kaggle.com/alexisbcook/getting-started-with-titanic"
   ]
  },
  {
   "cell_type": "code",
   "execution_count": 1,
   "metadata": {},
   "outputs": [],
   "source": [
    "import numpy as np \n",
    "import pandas as pd\n",
    "import pandas_profiling as pp\n",
    "import matplotlib\n",
    "matplotlib.use('TkAgg')  #사용한 컴퓨터 한경 문제로 추가적인 설정 \n",
    "import matplotlib.pyplot as plt\n",
    "from sklearn.naive_bayes import GaussianNB"
   ]
  },
  {
   "cell_type": "code",
   "execution_count": 2,
   "metadata": {},
   "outputs": [],
   "source": [
    "train_data = pd.read_csv('./titanic/train.csv')\n",
    "test_data = pd.read_csv('./titanic/test.csv')"
   ]
  },
  {
   "cell_type": "code",
   "execution_count": 3,
   "metadata": {},
   "outputs": [
    {
     "data": {
      "text/plain": [
       "'생존여부와 유의미한 상관관계를 가지지 않을 것으로 예상되는 특성들을 제거'"
      ]
     },
     "execution_count": 3,
     "metadata": {},
     "output_type": "execute_result"
    }
   ],
   "source": [
    "\n",
    "train_data=train_data.drop(\"PassengerId\", axis=1) \n",
    "train_data=train_data.drop(\"Name\", axis=1) \n",
    "train_data=train_data.drop(\"Ticket\", axis=1) \n",
    "train_data=train_data.drop(\"Cabin\", axis=1) \n",
    "#train_data=train_data.drop(\"Embarked\", axis=1) \n",
    "#train_data=train_data.drop(\"Fare\", axis=1)\n",
    "\n",
    "#test_data=test_data.drop(\"Fare\", axis=1)\n",
    "test_data=test_data.drop(\"PassengerId\", axis=1)\n",
    "test_data=test_data.drop(\"Name\", axis=1)\n",
    "test_data=test_data.drop(\"Ticket\", axis=1)\n",
    "test_data=test_data.drop(\"Cabin\", axis=1)\n",
    "#test_data=test_data.drop(\"Embarked\", axis=1) \n",
    "\n",
    "\"\"\"생존여부와 유의미한 상관관계를 가지지 않을 것으로 예상되는 특성들을 제거\"\"\""
   ]
  },
  {
   "cell_type": "code",
   "execution_count": 4,
   "metadata": {},
   "outputs": [
    {
     "data": {
      "text/plain": [
       "'data와 target을 분리  test data의 taget은 주어지지 않음'"
      ]
     },
     "execution_count": 4,
     "metadata": {},
     "output_type": "execute_result"
    }
   ],
   "source": [
    "train_data.Sex=train_data.Sex.map({'female':0, 'male':1 ,'nan':'NaN'})\n",
    "test_data.Sex=test_data.Sex.map({'female':0, 'male':1 ,'nan':'NaN'})\n",
    "train_data.Embarked=train_data.Embarked.map({'S':0, 'C':1, 'Q':2, 'nan':'NaN'})\n",
    "test_data.Embarked=test_data.Embarked.map({'S':0, 'C':1, 'Q':2,'nan':'NaN'})\n",
    "\"\"\"문자열 정보를 숫자로 변환\"\"\"\n",
    "y_train=train_data.Survived\n",
    "x_train=train_data.drop([\"Survived\"], axis=1)\n",
    "x_test=test_data\n",
    "\"\"\"data와 target을 분리  test data의 taget은 주어지지 않음\"\"\""
   ]
  },
  {
   "cell_type": "code",
   "execution_count": 5,
   "metadata": {},
   "outputs": [],
   "source": [
    "\n",
    "\n",
    "median_age_male=x_train[x_train['Sex']==1]['Age'].median()\n",
    "    #std_age_male=x_train[train_data['Sex']==1]['Age'].std()\n",
    "    \n",
    "median_age_female=x_train[x_train['Sex']==0]['Age'].median()\n",
    "    #std_age_male=x_train[x_train['Sex']==0]['Age'].std()\n",
    "    \n",
    "\"\"\"training data에서 생존여부와 유의미한 상관관계를 가진 성별의 경우 남자 여자 평균 나이를 따로 계산하여 없는 값을 대체 \"\"\"    \n",
    "x_train.loc[(x_train.Age.isnull()) & (x_train['Sex']==1),'Age']=median_age_male\n",
    "    \n",
    "x_train.loc[(x_train.Age.isnull()) & (x_train['Sex']==0),'Age']=median_age_female\n",
    "    \n",
    "x_test.loc[(x_test.Fare.isnull()==True)]=17.  \n",
    "    \n",
    "x_train.loc[(x_train.Embarked.isnull())==True]=0\n",
    "    \n",
    "x_test.loc[(x_test.Embarked.isnull())==True]=0\n",
    "    \n",
    "    \n",
    "x_test.loc[(x_test.Age.isnull()) & (x_test['Sex']==1),'Age']=median_age_male\n",
    "    \n",
    "x_test.loc[(x_test.Age.isnull()) & (x_test['Sex']==0),'Age']=median_age_female\n",
    "    \n",
    "   "
   ]
  },
  {
   "cell_type": "code",
   "execution_count": 6,
   "metadata": {
    "scrolled": true
   },
   "outputs": [],
   "source": [
    "from sklearn.preprocessing import StandardScaler\n",
    "sc = StandardScaler()\n",
    "x_train = sc.fit_transform(x_train)\n",
    "x_test = sc.transform(x_test)"
   ]
  },
  {
   "cell_type": "code",
   "execution_count": 7,
   "metadata": {},
   "outputs": [
    {
     "data": {
      "text/plain": [
       "(418,)"
      ]
     },
     "execution_count": 7,
     "metadata": {},
     "output_type": "execute_result"
    }
   ],
   "source": [
    "\n",
    "gnb = GaussianNB()\n",
    "y_pred = gnb.fit(x_train, y_train).predict(x_test)\n",
    "y_pred.shape"
   ]
  },
  {
   "cell_type": "code",
   "execution_count": 8,
   "metadata": {},
   "outputs": [],
   "source": [
    "test_data=pd.read_csv('./titanic/test.csv')\n",
    "submission = pd.DataFrame({\n",
    "    \"PassengerId\": test_data[\"PassengerId\"],\n",
    "    \"Survived\": y_pred\n",
    "    })"
   ]
  },
  {
   "cell_type": "code",
   "execution_count": 9,
   "metadata": {},
   "outputs": [],
   "source": [
    "submission.to_csv('submission2.csv', index=False)"
   ]
  },
  {
   "cell_type": "markdown",
   "metadata": {},
   "source": [
    "* 주의! csv파일과 notebook 코드 모두를 제출하여야 한다."
   ]
  },
  {
   "cell_type": "markdown",
   "metadata": {},
   "source": [
    "# 2. Image classification with CNN\n",
    "* cnn을 이용하여 다음 이미지를 분류하여라.\n",
    "* 인풋 데이터는 rgb 정보를 가지고 있다.\n",
    "* 코드, 결과, 보고서를 함께 제출하여야 한다."
   ]
  },
  {
   "cell_type": "code",
   "execution_count": 10,
   "metadata": {},
   "outputs": [],
   "source": [
    "import torch\n",
    "import torch.nn as nn\n",
    "import torch.nn.functional as F\n",
    "from torch import optim\n",
    "\n",
    "# dataset and transformation\n",
    "import torchvision\n",
    "from torchvision import datasets\n",
    "import torchvision.transforms as transforms\n",
    "from torch.utils.data import DataLoader\n",
    "from torchvision import models\n",
    "\n",
    "# display images\n",
    "from torchvision import utils\n",
    "import matplotlib.pyplot as plt\n",
    "%matplotlib inline\n",
    "\n",
    "# utils\n",
    "import numpy as np\n",
    "import time\n",
    "import copy"
   ]
  },
  {
   "cell_type": "code",
   "execution_count": 11,
   "metadata": {},
   "outputs": [
    {
     "name": "stdout",
     "output_type": "stream",
     "text": [
      "Files already downloaded and verified\n",
      "Files already downloaded and verified\n"
     ]
    }
   ],
   "source": [
    "batch_size = 100\n",
    "\n",
    "trainset = torchvision.datasets.CIFAR10(\n",
    "    root='./data', \n",
    "    train=True,\n",
    "    download=True, \n",
    "    transform=torchvision.transforms.ToTensor()\n",
    ")\n",
    "train_loader = torch.utils.data.DataLoader(\n",
    "    trainset, \n",
    "    batch_size=batch_size,\n",
    "    shuffle=True\n",
    ")\n",
    "\n",
    "testset = torchvision.datasets.CIFAR10(\n",
    "    root='./data', \n",
    "    train=False,\n",
    "    download=True, \n",
    "    transform=torchvision.transforms.ToTensor()\n",
    ")\n",
    "test_loader = torch.utils.data.DataLoader(\n",
    "    testset, \n",
    "    batch_size=batch_size,\n",
    "    shuffle=False\n",
    ")"
   ]
  },
  {
   "cell_type": "code",
   "execution_count": 12,
   "metadata": {},
   "outputs": [],
   "source": [
    "class Yal(nn.Module):\n",
    "    def __init__(self):\n",
    "        super().__init__()\n",
    "        \"\"\"주석으로 출력의 사이즈를 표기 \"\"\"\n",
    "        self.block1=nn.Sequential(\n",
    "            nn.Conv2d(3, 32, kernel_size=3, padding=1),   #(32 32 32)\n",
    "            nn.ReLU(),\n",
    "            nn.Conv2d(32, 64, kernel_size=3, stride=1, padding=1), #(32 32 64 )\n",
    "            nn.ReLU(),\n",
    "            nn.MaxPool2d(2, 2), #(16 16 64)\n",
    "            nn.BatchNorm2d(64)\n",
    "        )\n",
    "\n",
    "        self.block2=nn.Sequential(\n",
    "            nn.Conv2d(64, 128, kernel_size=3, stride=1, padding=1), #(16 16 128)\n",
    "            nn.ReLU(),\n",
    "            nn.Conv2d(128, 128, kernel_size=3, stride=1, padding=1), #(16 16 128)\n",
    "            nn.ReLU(),\n",
    "            nn.MaxPool2d(2, 2), #(8 8 128)\n",
    "            nn.BatchNorm2d(128)\n",
    "        )\n",
    "        \n",
    "        self.block3=nn.Sequential(\n",
    "            nn.Conv2d(128, 256, kernel_size=3, stride=1, padding=1), #(8 8 256)\n",
    "            nn.Conv2d(256, 256, kernel_size=3, stride=1, padding=1), #(8 8 256)\n",
    "            nn.MaxPool2d(2, 2), #(4 4 256 )\n",
    "            nn.BatchNorm2d(256)\n",
    "        )\n",
    " \n",
    "        self.fc1=nn.Linear(256*4*4, 1024) #(1024)\n",
    "       \n",
    "        self.fc2=nn.Linear(1024, 512) #(512)\n",
    "    \n",
    "        self.fc3=nn.Linear(512, 10) #(10)\n",
    "        \n",
    "    def forward(self, x):\n",
    "        x=self.block1(x)   \n",
    "        x=self.block2(x)\n",
    "        x=self.block3(x)\n",
    "        x=torch.flatten(x,1)  #fully connected layer와 연결하기 위해 1차원으로 펴줌\n",
    "        x=self.fc1(x)\n",
    "        x=F.relu(x)\n",
    "        x=self.fc2(x)\n",
    "        x=F.relu(x)\n",
    "        x=self.fc3(x)\n",
    "        \n",
    "        return x"
   ]
  },
  {
   "cell_type": "code",
   "execution_count": 13,
   "metadata": {},
   "outputs": [
    {
     "data": {
      "text/plain": [
       "<torch._C.Generator at 0x25e04bda9d0>"
      ]
     },
     "execution_count": 13,
     "metadata": {},
     "output_type": "execute_result"
    }
   ],
   "source": [
    "torch.cuda.manual_seed_all(10) #동일한 조건으로 다른 구조의 모델의 성능을 비교하기 위해 난수 생성 seed 설정 (gpu and cpu)\n",
    "torch.manual_seed(10)"
   ]
  },
  {
   "cell_type": "code",
   "execution_count": 14,
   "metadata": {},
   "outputs": [],
   "source": [
    "model=Yal()\n",
    "if torch.cuda.is_available(): #model parameter들을 gpu로 전달\n",
    "    model.cuda()\n"
   ]
  },
  {
   "cell_type": "code",
   "execution_count": 15,
   "metadata": {},
   "outputs": [],
   "source": [
    "criterion = nn.CrossEntropyLoss() \n",
    "optimizer = optim.Adam(model.parameters(), lr=0.001)"
   ]
  },
  {
   "cell_type": "code",
   "execution_count": 16,
   "metadata": {},
   "outputs": [],
   "source": [
    "device = torch.device(\"cuda:0\" if torch.cuda.is_available() else \"cpu\")"
   ]
  },
  {
   "cell_type": "code",
   "execution_count": 17,
   "metadata": {},
   "outputs": [
    {
     "name": "stdout",
     "output_type": "stream",
     "text": [
      "Epoch:1, Iteration: 100, TestLoss: 1.3451842069625854, TestAccuracy: 47.06999969482422%\n",
      "Epoch:1, Iteration: 200, TestLoss: 1.4142802953720093, TestAccuracy: 56.94999694824219%\n",
      "Epoch:1, Iteration: 300, TestLoss: 1.1154427528381348, TestAccuracy: 61.029998779296875%\n",
      "Epoch:1, Iteration: 400, TestLoss: 1.0431290864944458, TestAccuracy: 63.81999969482422%\n",
      "Epoch:1, Iteration: 500, TestLoss: 0.747795045375824, TestAccuracy: 67.08999633789062%\n",
      "Epoch:2, Iteration: 100, TestLoss: 0.90692538022995, TestAccuracy: 68.58999633789062%\n",
      "Epoch:2, Iteration: 200, TestLoss: 0.75983065366745, TestAccuracy: 72.33000183105469%\n",
      "Epoch:2, Iteration: 300, TestLoss: 0.5888379216194153, TestAccuracy: 73.16999816894531%\n",
      "Epoch:2, Iteration: 400, TestLoss: 0.5444296002388, TestAccuracy: 73.70999908447266%\n",
      "Epoch:2, Iteration: 500, TestLoss: 0.7795976996421814, TestAccuracy: 75.68999481201172%\n",
      "Epoch:3, Iteration: 100, TestLoss: 0.41785985231399536, TestAccuracy: 76.58000183105469%\n",
      "Epoch:3, Iteration: 200, TestLoss: 0.6184532046318054, TestAccuracy: 76.8699951171875%\n",
      "Epoch:3, Iteration: 300, TestLoss: 0.4769776463508606, TestAccuracy: 76.73999786376953%\n",
      "Epoch:3, Iteration: 400, TestLoss: 0.5605573654174805, TestAccuracy: 76.95999908447266%\n",
      "Epoch:3, Iteration: 500, TestLoss: 0.3903670012950897, TestAccuracy: 78.04999542236328%\n",
      "Epoch:4, Iteration: 100, TestLoss: 0.2739928662776947, TestAccuracy: 78.11000061035156%\n",
      "Epoch:4, Iteration: 200, TestLoss: 0.49419960379600525, TestAccuracy: 78.79000091552734%\n",
      "Epoch:4, Iteration: 300, TestLoss: 0.3834277391433716, TestAccuracy: 78.75999450683594%\n",
      "Epoch:4, Iteration: 400, TestLoss: 0.3914060592651367, TestAccuracy: 78.52999877929688%\n",
      "Epoch:4, Iteration: 500, TestLoss: 0.36720848083496094, TestAccuracy: 79.5%\n",
      "Epoch:5, Iteration: 100, TestLoss: 0.3629656136035919, TestAccuracy: 79.81999969482422%\n",
      "Epoch:5, Iteration: 200, TestLoss: 0.3304198384284973, TestAccuracy: 79.36000061035156%\n",
      "Epoch:5, Iteration: 300, TestLoss: 0.3071342706680298, TestAccuracy: 79.31999969482422%\n",
      "Epoch:5, Iteration: 400, TestLoss: 0.4228743016719818, TestAccuracy: 80.30999755859375%\n",
      "Epoch:5, Iteration: 500, TestLoss: 0.37060296535491943, TestAccuracy: 80.04000091552734%\n",
      "Epoch:6, Iteration: 100, TestLoss: 0.17612114548683167, TestAccuracy: 80.25999450683594%\n",
      "Epoch:6, Iteration: 200, TestLoss: 0.1693694293498993, TestAccuracy: 79.45999908447266%\n",
      "Epoch:6, Iteration: 300, TestLoss: 0.34070509672164917, TestAccuracy: 80.18000030517578%\n",
      "Epoch:6, Iteration: 400, TestLoss: 0.16225679218769073, TestAccuracy: 79.3499984741211%\n",
      "Epoch:6, Iteration: 500, TestLoss: 0.2775900363922119, TestAccuracy: 80.5199966430664%\n",
      "Epoch:7, Iteration: 100, TestLoss: 0.10605207085609436, TestAccuracy: 80.8499984741211%\n",
      "Epoch:7, Iteration: 200, TestLoss: 0.14721617102622986, TestAccuracy: 80.94999694824219%\n",
      "Epoch:7, Iteration: 300, TestLoss: 0.15352660417556763, TestAccuracy: 80.27999877929688%\n",
      "Epoch:7, Iteration: 400, TestLoss: 0.30888643860816956, TestAccuracy: 80.5999984741211%\n",
      "Epoch:7, Iteration: 500, TestLoss: 0.21403759717941284, TestAccuracy: 80.25%\n",
      "Epoch:8, Iteration: 100, TestLoss: 0.09778562188148499, TestAccuracy: 81.47999572753906%\n",
      "Epoch:8, Iteration: 200, TestLoss: 0.12530261278152466, TestAccuracy: 80.98999786376953%\n",
      "Epoch:8, Iteration: 300, TestLoss: 0.18180255591869354, TestAccuracy: 80.50999450683594%\n",
      "Epoch:8, Iteration: 400, TestLoss: 0.12274333089590073, TestAccuracy: 80.19999694824219%\n",
      "Epoch:8, Iteration: 500, TestLoss: 0.2561248540878296, TestAccuracy: 79.80999755859375%\n",
      "Epoch:9, Iteration: 100, TestLoss: 0.058548059314489365, TestAccuracy: 80.88999938964844%\n",
      "Epoch:9, Iteration: 200, TestLoss: 0.04881489276885986, TestAccuracy: 80.97000122070312%\n",
      "Epoch:9, Iteration: 300, TestLoss: 0.083197221159935, TestAccuracy: 80.31999969482422%\n",
      "Epoch:9, Iteration: 400, TestLoss: 0.04151785746216774, TestAccuracy: 80.06999969482422%\n",
      "Epoch:9, Iteration: 500, TestLoss: 0.07955129444599152, TestAccuracy: 80.75%\n",
      "Epoch:10, Iteration: 100, TestLoss: 0.05592859163880348, TestAccuracy: 80.88999938964844%\n",
      "Epoch:10, Iteration: 200, TestLoss: 0.0331609807908535, TestAccuracy: 80.40999603271484%\n",
      "Epoch:10, Iteration: 300, TestLoss: 0.09429538995027542, TestAccuracy: 80.47999572753906%\n",
      "Epoch:10, Iteration: 400, TestLoss: 0.10874009132385254, TestAccuracy: 80.2699966430664%\n",
      "Epoch:10, Iteration: 500, TestLoss: 0.16468307375907898, TestAccuracy: 80.1500015258789%\n",
      "Epoch:11, Iteration: 100, TestLoss: 0.06453981250524521, TestAccuracy: 81.47000122070312%\n",
      "Epoch:11, Iteration: 200, TestLoss: 0.04729028046131134, TestAccuracy: 80.43999481201172%\n",
      "Epoch:11, Iteration: 300, TestLoss: 0.09284087270498276, TestAccuracy: 79.97999572753906%\n",
      "Epoch:11, Iteration: 400, TestLoss: 0.0760948434472084, TestAccuracy: 80.48999786376953%\n",
      "Epoch:11, Iteration: 500, TestLoss: 0.15457825362682343, TestAccuracy: 80.61000061035156%\n",
      "Epoch:12, Iteration: 100, TestLoss: 0.045555755496025085, TestAccuracy: 81.48999786376953%\n",
      "Epoch:12, Iteration: 200, TestLoss: 0.1444355845451355, TestAccuracy: 80.27999877929688%\n",
      "Epoch:12, Iteration: 300, TestLoss: 0.05867822468280792, TestAccuracy: 79.66999816894531%\n",
      "Epoch:12, Iteration: 400, TestLoss: 0.04108743742108345, TestAccuracy: 79.06999969482422%\n",
      "Epoch:12, Iteration: 500, TestLoss: 0.17417146265506744, TestAccuracy: 79.87999725341797%\n",
      "Epoch:13, Iteration: 100, TestLoss: 0.06817241758108139, TestAccuracy: 80.75999450683594%\n",
      "Epoch:13, Iteration: 200, TestLoss: 0.057251013815402985, TestAccuracy: 80.0999984741211%\n",
      "Epoch:13, Iteration: 300, TestLoss: 0.02771552838385105, TestAccuracy: 80.3699951171875%\n",
      "Epoch:13, Iteration: 400, TestLoss: 0.04036799445748329, TestAccuracy: 79.29000091552734%\n",
      "Epoch:13, Iteration: 500, TestLoss: 0.13588349521160126, TestAccuracy: 79.93999481201172%\n",
      "Epoch:14, Iteration: 100, TestLoss: 0.033596817404031754, TestAccuracy: 80.6500015258789%\n",
      "Epoch:14, Iteration: 200, TestLoss: 0.01453353650867939, TestAccuracy: 80.40999603271484%\n",
      "Epoch:14, Iteration: 300, TestLoss: 0.19833974540233612, TestAccuracy: 80.06999969482422%\n",
      "Epoch:14, Iteration: 400, TestLoss: 0.0464930385351181, TestAccuracy: 79.82999420166016%\n",
      "Epoch:14, Iteration: 500, TestLoss: 0.07868672162294388, TestAccuracy: 80.54999542236328%\n",
      "Epoch:15, Iteration: 100, TestLoss: 0.006515315268188715, TestAccuracy: 81.04000091552734%\n",
      "Epoch:15, Iteration: 200, TestLoss: 0.07404949516057968, TestAccuracy: 80.5%\n",
      "Epoch:15, Iteration: 300, TestLoss: 0.1299004703760147, TestAccuracy: 80.5%\n",
      "Epoch:15, Iteration: 400, TestLoss: 0.08249937742948532, TestAccuracy: 80.5%\n",
      "Epoch:15, Iteration: 500, TestLoss: 0.027526581659913063, TestAccuracy: 81.18000030517578%\n",
      "Epoch:16, Iteration: 100, TestLoss: 0.04729357734322548, TestAccuracy: 80.25%\n",
      "Epoch:16, Iteration: 200, TestLoss: 0.00603405712172389, TestAccuracy: 80.79000091552734%\n",
      "Epoch:16, Iteration: 300, TestLoss: 0.048491593450307846, TestAccuracy: 79.65999603271484%\n",
      "Epoch:16, Iteration: 400, TestLoss: 0.02353847771883011, TestAccuracy: 79.97000122070312%\n",
      "Epoch:16, Iteration: 500, TestLoss: 0.10097906738519669, TestAccuracy: 79.7699966430664%\n",
      "Epoch:17, Iteration: 100, TestLoss: 0.02157052606344223, TestAccuracy: 80.23999786376953%\n",
      "Epoch:17, Iteration: 200, TestLoss: 0.05221574008464813, TestAccuracy: 79.79999542236328%\n",
      "Epoch:17, Iteration: 300, TestLoss: 0.08541679382324219, TestAccuracy: 80.97000122070312%\n",
      "Epoch:17, Iteration: 400, TestLoss: 0.08331053704023361, TestAccuracy: 80.38999938964844%\n",
      "Epoch:17, Iteration: 500, TestLoss: 0.019090432673692703, TestAccuracy: 80.44999694824219%\n",
      "Epoch:18, Iteration: 100, TestLoss: 0.03667230159044266, TestAccuracy: 80.25%\n",
      "Epoch:18, Iteration: 200, TestLoss: 0.25419408082962036, TestAccuracy: 80.5%\n",
      "Epoch:18, Iteration: 300, TestLoss: 0.048762232065200806, TestAccuracy: 80.68999481201172%\n",
      "Epoch:18, Iteration: 400, TestLoss: 0.13589288294315338, TestAccuracy: 80.15999603271484%\n",
      "Epoch:18, Iteration: 500, TestLoss: 0.054338060319423676, TestAccuracy: 79.97000122070312%\n",
      "Epoch:19, Iteration: 100, TestLoss: 0.031696122139692307, TestAccuracy: 80.22999572753906%\n",
      "Epoch:19, Iteration: 200, TestLoss: 0.06144934147596359, TestAccuracy: 80.43999481201172%\n",
      "Epoch:19, Iteration: 300, TestLoss: 0.12114816904067993, TestAccuracy: 80.23999786376953%\n",
      "Epoch:19, Iteration: 400, TestLoss: 0.03439416363835335, TestAccuracy: 80.81999969482422%\n"
     ]
    },
    {
     "name": "stdout",
     "output_type": "stream",
     "text": [
      "Epoch:19, Iteration: 500, TestLoss: 0.049460314214229584, TestAccuracy: 80.83999633789062%\n",
      "Epoch:20, Iteration: 100, TestLoss: 0.010558966547250748, TestAccuracy: 80.72000122070312%\n",
      "Epoch:20, Iteration: 200, TestLoss: 0.04885871708393097, TestAccuracy: 81.20999908447266%\n",
      "Epoch:20, Iteration: 300, TestLoss: 0.0480441190302372, TestAccuracy: 81.38999938964844%\n",
      "Epoch:20, Iteration: 400, TestLoss: 0.00256745726801455, TestAccuracy: 81.04999542236328%\n",
      "Epoch:20, Iteration: 500, TestLoss: 0.05653274431824684, TestAccuracy: 80.98999786376953%\n"
     ]
    }
   ],
   "source": [
    "num_epochs = 20\n",
    "\n",
    "loss_list = []\n",
    "iteration_list = []\n",
    "accuracy_list = []\n",
    "\n",
    "predictions_list = []\n",
    "labels_list = []\n",
    "\n",
    "for epoch in range(num_epochs):\n",
    "    for i, (images, labels) in enumerate(train_loader): # batch size 100이므로 epoch 당 iteration=50000/100=500 번 \n",
    "        images, labels = images.to(device), labels.to(device) #gpu 환경에서 계산\n",
    "    \n",
    "        prediction = model(images)\n",
    "        \n",
    "        loss = criterion(prediction, labels)\n",
    "        \n",
    "        optimizer.zero_grad()\n",
    "    \n",
    "        loss.backward()\n",
    "        \n",
    "        optimizer.step()\n",
    "     \n",
    "        if ((i+1)%100==0): # iteration 100번마다 test data로 loss, accuracy 계산하여 학습 경향 확인\n",
    "            total = 0\n",
    "            correct = 0\n",
    "            for images, labels in test_loader:\n",
    "                images, labels = images.to(device), labels.to(device)\n",
    "                labels_list.append(labels)\n",
    "            \n",
    "                prediction = model(images) \n",
    "            \n",
    "                predictions = torch.max(prediction, 1)[1].to(device) \n",
    "                predictions_list.append(predictions)\n",
    "                correct += (predictions == labels).sum()\n",
    "            \n",
    "                total += len(labels)\n",
    "            \n",
    "            accuracy = correct * 100 / total\n",
    "            loss_list.append(loss.data)\n",
    "            iteration_list.append(i)\n",
    "            accuracy_list.append(accuracy)\n",
    "            print(\"Epoch:{}, Iteration: {}, TestLoss: {}, TestAccuracy: {}%\".format(epoch+1,i+1, loss.data, accuracy))\n",
    "    "
   ]
  },
  {
   "cell_type": "code",
   "execution_count": 18,
   "metadata": {},
   "outputs": [],
   "source": [
    "test_loss_list=[i.cpu() for i in loss_list]\n",
    "test_accuracy_list=[i.cpu() for i in accuracy_list]"
   ]
  },
  {
   "cell_type": "code",
   "execution_count": 22,
   "metadata": {},
   "outputs": [
    {
     "data": {
      "image/png": "[encoded data removed]",
      "text/plain": [
       "<Figure size 432x288 with 1 Axes>"
      ]
     },
     "metadata": {
      "needs_background": "light"
     },
     "output_type": "display_data"
    }
   ],
   "source": [
    "plt.plot([i for i in range(100)], test_loss_list)\n",
    "plt.title(\"test loss\")\n",
    "plt.show()"
   ]
  },
  {
   "cell_type": "code",
   "execution_count": 21,
   "metadata": {},
   "outputs": [
    {
     "data": {
      "image/png": "[encoded data removed]",
      "text/plain": [
       "<Figure size 432x288 with 1 Axes>"
      ]
     },
     "metadata": {
      "needs_background": "light"
     },
     "output_type": "display_data"
    }
   ],
   "source": [
    "plt.plot([i for i in range(100)], test_accuracy_list)\n",
    "plt.title(\"test accuracy\")\n",
    "plt.show()"
   ]
  },
  {
   "cell_type": "markdown",
   "metadata": {},
   "source": [
    "# Cifar10 CNN 보고서 \n",
    "\n",
    "처음 모델을 정할때 convolution layerf를 여러번 쌓아 32*32*3 input tensor로 부터 최대한 많은 정보를 추출하여 정확도를 높이고자 하였다. \n",
    "일반적으로 layer를 많이 쌓을 경우 backpropagation을 할때 기울기가 뒤 레이어로 갈수록 작아져 학습이 되지 않는 gradient vanishing 문제를 해결하기 위해 모든 양수 값에서 기울기 항상 1인 e relu activation 함수를 사용하였다. 하지만 이러한 활성함수 만으로는 10epoch 정도 학습시켰을때 trainining loss가 더 이상  낮아지지 않고 학습속도가 급격하게 느려지는 현상이 나타났고 test accuracy 또한 70% 정도에서 머물렀다. 이를 해결하기 위해 레이어 사이사이에 batch normalization을 추가하였다. \n",
    "batch normalization은 이전 레이어에서 전달받은 activation 값들로 batch에 대해 평균과 분산을 구한뒤 정규분포를 따르게 activation 값들이 전규분포를 따르게 변환해준다.\n",
    "batch normalization 레이어에는 학습되는 parameter로 bias와 표준편차 값들이 있으며 이에 의해 분포의 형태가 결정된다. 이러한 변환은 더 빠르고 안정적인 학습을 가능하게 한다고 알려져있다. 이러한 효과에 대해 엄밀한 설명은 없지만 batch normalization 에 의해 loss landscape이 완만해져서 학습과정에서 local minima에 잘 갇히지 않고 안정적으로 global minima에 수렴하는 하는 것으로 이해 할 수 있다.\n",
    "batch normalization을 포함한 전체 모델의 구조는 6개의 convolution layer와 3개의 fully connected layer와 3 개의 max pooling layer로 이루어져 있으며 batch size 100으로 learning rate 0.001의 adam optimizer로 20epoch의 학습을 진행한 결과 test data에 대해 80% 정도의 정확도를 얻을 수 있었다. 또한 gpu 연산이 가능한 환경이였기에 빠른 속도로 높은 정확도를 얻을 수 있었다. \n",
    "최종적으로 얻은 80% 보다 높은 정확도를 얻기 위해서는 정확도가 낮게 나온 class image를 augmentation 과정을 통해 더 많이 학습시켜주면 조금 더 높아질것으로 예상된다. 더 좋은 계산환경 이었으면 ReLU와 같이 연산량이 작은 activation 함수 말고도 ㄷ"
   ]
  },
  {
   "cell_type": "code",
   "execution_count": null,
   "metadata": {},
   "outputs": [],
   "source": []
  }
 ],
 "metadata": {
  "kernelspec": {
   "display_name": "Python 3 (ipykernel)",
   "language": "python",
   "name": "python3"
  },
  "language_info": {
   "codemirror_mode": {
    "name": "ipython",
    "version": 3
   },
   "file_extension": ".py",
   "mimetype": "text/x-python",
   "name": "python",
   "nbconvert_exporter": "python",
   "pygments_lexer": "ipython3",
   "version": "3.9.7"
  }
 },
 "nbformat": 4,
 "nbformat_minor": 2
}
