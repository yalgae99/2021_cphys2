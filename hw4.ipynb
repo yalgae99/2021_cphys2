{
 "cells": [
  {
   "cell_type": "code",
   "execution_count": 1,
   "id": "d3519726",
   "metadata": {},
   "outputs": [],
   "source": [
    "import numpy as np\n",
    "import matplotlib.pyplot as plt"
   ]
  },
  {
   "cell_type": "code",
   "execution_count": 2,
   "id": "66ab50e7",
   "metadata": {},
   "outputs": [],
   "source": [
    "class perceptron():\n",
    "    def __init__(self,input_size:int):\n",
    "        self.input_size = input_size\n",
    "        self.biases = np.random.randn(1,1)\n",
    "        self.weights = np.random.randn(1,self.input_size) \n",
    "        \"\"\"initial weights and biases\"\"\"\n",
    "        \n",
    "    def heavy_side(self,z):\n",
    "        \"\"\"activation function for perceptron\"\"\"\n",
    "        if z<0:\n",
    "            return 0\n",
    "        else:\n",
    "            return 1.\n",
    "    \n",
    "    def feedforward(self,a):\n",
    "      \n",
    "        return self.heavy_side(np.dot(self.weights,a)+self.biases)\n",
    "    \n",
    "    def update(self, learning_rate,x,y):\n",
    "        \n",
    "        self.weights=self.weights+learning_rate*(y-self.feedforward(x))*x.T\n",
    "        self.biases=self.biases+learning_rate*(y-self.feedforward(x))\n",
    "        \n",
    "    \n",
    "    def learn(self,data,target,learning_rate):\n",
    "        counter=0 #전체 데이터에 대한 반복 계산 횟수\n",
    "        while True:\n",
    "            old_w=self.weights\n",
    "            old_b=self.biases\n",
    "            for x,y in zip(data,target):\n",
    "                x.reshape(self.input_size,1)\n",
    "                y.reshape(1,1)\n",
    "                self.update(learning_rate,x,y)\n",
    "                #print([self.feedforward(x) for x in data])\n",
    "                \n",
    "            counter+=1\n",
    "            if np.all(old_w==self.weights) and old_b==self.biases: #update가 되지 않을때 까지\n",
    "                print(counter)\n",
    "                break"
   ]
  },
  {
   "cell_type": "markdown",
   "id": "77d537d9",
   "metadata": {},
   "source": [
    "# OR \n",
    "* 단층 perceptron을 이용하여 다음의 데이터를 분류하여라."
   ]
  },
  {
   "cell_type": "code",
   "execution_count": 3,
   "id": "98caf6e0",
   "metadata": {},
   "outputs": [],
   "source": [
    "X =np.array([[0,0],[1,0],[0,1],[1,1]])\n",
    "y =np.array([0,1,1,1])"
   ]
  },
  {
   "cell_type": "code",
   "execution_count": 4,
   "id": "5e6164b2",
   "metadata": {},
   "outputs": [
    {
     "name": "stdout",
     "output_type": "stream",
     "text": [
      "6\n"
     ]
    }
   ],
   "source": [
    "single_perceptron=perceptron(2)\n",
    "single_perceptron.learn(X,y,0.1)"
   ]
  },
  {
   "cell_type": "code",
   "execution_count": 5,
   "id": "5590ec16",
   "metadata": {},
   "outputs": [
    {
     "name": "stdout",
     "output_type": "stream",
     "text": [
      "[[0.12920688 0.77066978]]\n",
      "[[-0.12796579]]\n",
      "[ True  True  True  True]\n"
     ]
    }
   ],
   "source": [
    "print(single_perceptron.weights)\n",
    "print(single_perceptron.biases)\n",
    "print(np.array([single_perceptron.feedforward(np.array(x).reshape(2,1)) for x in X])==y) #학습된 패러미터로 얻은 예측값과 타겟 비교"
   ]
  },
  {
   "cell_type": "markdown",
   "id": "63817cc6",
   "metadata": {},
   "source": [
    "# Iris classifications"
   ]
  },
  {
   "cell_type": "markdown",
   "id": "ec78b384",
   "metadata": {},
   "source": [
    "* 단층 perceptron을 이용하여 다음의 데이터를 분류하여라."
   ]
  },
  {
   "cell_type": "code",
   "execution_count": 6,
   "id": "c699c973",
   "metadata": {},
   "outputs": [
    {
     "name": "stdout",
     "output_type": "stream",
     "text": [
      "['setosa' 'versicolor' 'virginica']\n",
      "['sepal length (cm)', 'sepal width (cm)', 'petal length (cm)', 'petal width (cm)']\n"
     ]
    }
   ],
   "source": [
    "from sklearn import datasets\n",
    "iris = datasets.load_iris() # 분꽃\n",
    "print(iris.target_names) # 3종류의 분꽃 분류하기\n",
    "print(iris.feature_names) # features\n"
   ]
  },
  {
   "cell_type": "code",
   "execution_count": 7,
   "id": "541aa758",
   "metadata": {},
   "outputs": [
    {
     "name": "stdout",
     "output_type": "stream",
     "text": [
      "150\n"
     ]
    }
   ],
   "source": [
    "Xi=iris.data # input data # the number of input nodes = 4\n",
    "print(len(Xi))"
   ]
  },
  {
   "cell_type": "code",
   "execution_count": 8,
   "id": "55b820de",
   "metadata": {},
   "outputs": [
    {
     "data": {
      "text/plain": [
       "array(['setosa', 'versicolor', 'virginica'], dtype='<U10')"
      ]
     },
     "execution_count": 8,
     "metadata": {},
     "output_type": "execute_result"
    }
   ],
   "source": [
    "iris.target_names # setosa = 0, not setosa = 1"
   ]
  },
  {
   "cell_type": "code",
   "execution_count": 9,
   "id": "11268d7e",
   "metadata": {},
   "outputs": [
    {
     "name": "stdout",
     "output_type": "stream",
     "text": [
      "4\n"
     ]
    }
   ],
   "source": [
    "yi=np.where(iris.target>0,1,0) # 0(setosa) 과 1(setosa 외) 로 분류\n",
    "print(len(y))"
   ]
  },
  {
   "cell_type": "markdown",
   "id": "0c3c8a70",
   "metadata": {},
   "source": [
    "* 위의 데이터를 단층 perceptron을 이용하여 분류하는 신경망을 만들고 학습하여라.\n",
    "* 입력층의 노드는 바이어스를 제외하고 4개로 한다. 바이어스 1개를 포함 총 5개이다. \n",
    "* 출력층의 노드는 1개로 한다."
   ]
  },
  {
   "cell_type": "code",
   "execution_count": 10,
   "id": "e078e3ab",
   "metadata": {},
   "outputs": [],
   "source": [
    "iris_perceptron=perceptron(4)"
   ]
  },
  {
   "cell_type": "code",
   "execution_count": 11,
   "id": "3a1760b6",
   "metadata": {},
   "outputs": [
    {
     "name": "stdout",
     "output_type": "stream",
     "text": [
      "8\n"
     ]
    }
   ],
   "source": [
    "\n",
    "iris_perceptron.learn(Xi,yi,0.01)"
   ]
  },
  {
   "cell_type": "code",
   "execution_count": 12,
   "id": "1ab82973",
   "metadata": {},
   "outputs": [
    {
     "name": "stdout",
     "output_type": "stream",
     "text": [
      "[ True  True  True  True  True  True  True  True  True  True  True  True\n",
      "  True  True  True  True  True  True  True  True  True  True  True  True\n",
      "  True  True  True  True  True  True  True  True  True  True  True  True\n",
      "  True  True  True  True  True  True  True  True  True  True  True  True\n",
      "  True  True  True  True  True  True  True  True  True  True  True  True\n",
      "  True  True  True  True  True  True  True  True  True  True  True  True\n",
      "  True  True  True  True  True  True  True  True  True  True  True  True\n",
      "  True  True  True  True  True  True  True  True  True  True  True  True\n",
      "  True  True  True  True  True  True  True  True  True  True  True  True\n",
      "  True  True  True  True  True  True  True  True  True  True  True  True\n",
      "  True  True  True  True  True  True  True  True  True  True  True  True\n",
      "  True  True  True  True  True  True  True  True  True  True  True  True\n",
      "  True  True  True  True  True  True]\n",
      "[[ 0.01647949 -0.3633708   0.71317378 -1.02230327]]\n",
      "[[-0.13317291]]\n"
     ]
    }
   ],
   "source": [
    "print(np.array([iris_perceptron.feedforward(np.array(x).reshape(4,1)) for x in Xi])==yi) #학습된 패러미터로 얻은 예측값과 타겟 비교\n",
    "print(iris_perceptron.weights)\n",
    "print(iris_perceptron.biases)"
   ]
  },
  {
   "cell_type": "code",
   "execution_count": null,
   "id": "e80e54a5",
   "metadata": {},
   "outputs": [],
   "source": []
  },
  {
   "cell_type": "code",
   "execution_count": null,
   "id": "8ffb4685",
   "metadata": {},
   "outputs": [],
   "source": []
  }
 ],
 "metadata": {
  "kernelspec": {
   "display_name": "Python 3 (ipykernel)",
   "language": "python",
   "name": "python3"
  },
  "language_info": {
   "codemirror_mode": {
    "name": "ipython",
    "version": 3
   },
   "file_extension": ".py",
   "mimetype": "text/x-python",
   "name": "python",
   "nbconvert_exporter": "python",
   "pygments_lexer": "ipython3",
   "version": "3.9.7"
  }
 },
 "nbformat": 4,
 "nbformat_minor": 5
}
