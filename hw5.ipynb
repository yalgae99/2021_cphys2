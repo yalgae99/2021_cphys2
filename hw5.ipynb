{
 "cells": [
  {
   "cell_type": "markdown",
   "metadata": {},
   "source": [
    "# XOR \n",
    "* 하나의 히든 레이어를 도입한다.\n",
    "* input layer는 2개의 노드 + 1개의 바이어스\n",
    "* hidden layer는 3개의 노드 + 1개의 바이어스\n",
    "* output은 하나의 노드로 한다."
   ]
  },
  {
   "cell_type": "markdown",
   "metadata": {},
   "source": [
    "위의 데이터를 neural networks에서 backpropagation을 이용하여으로 학습시켜라. "
   ]
  },
  {
   "cell_type": "code",
   "execution_count": 1,
   "metadata": {},
   "outputs": [],
   "source": [
    "import numpy as np\n",
    "import matplotlib.pyplot as plt"
   ]
  },
  {
   "cell_type": "code",
   "execution_count": 2,
   "metadata": {},
   "outputs": [],
   "source": [
    "X = [np.array([0,0]).reshape(2,1),np.array([1,0]).reshape(2,1),np.array([0,1]).reshape(2,1),np.array([1,1]).reshape(2,1)] \n",
    "y = [np.array(0).reshape(1,1),np.array(1.).reshape(1,1),np.array(1.).reshape(1,1),np.array(0).reshape(1,1)]"
   ]
  },
  {
   "cell_type": "code",
   "execution_count": 3,
   "metadata": {},
   "outputs": [],
   "source": [
    "def sigmoid(z):\n",
    "    return 1/(1+np.exp(-z))\n",
    "\n",
    "def sigmoid_prime(z):\n",
    "    return sigmoid(z)*(1-sigmoid(z))"
   ]
  },
  {
   "cell_type": "code",
   "execution_count": 4,
   "metadata": {},
   "outputs": [],
   "source": [
    "class neural_net():\n",
    "    def __init__(self, sizes:list):\n",
    "        self.sizes=sizes\n",
    "        self.weights=[np.random.randn(x,y) for x,y in zip(sizes[1:], sizes[:-1])]\n",
    "        self.biases=[np.random.randn(x,1) for x in sizes[1:]]\n",
    "        self.n_layers=len(sizes)\n",
    "        \"\"\"weights와 biases 모두 len(sizes)-1 개의 numpy ndarray를 성분으로 갖는 list\n",
    "        초기에는 random한 값을 가짐\"\"\"\n",
    "    \n",
    "    def feedforward(self, a):\n",
    "        \"\"\"a is a numpy ndarray of shape (n,1)\"\"\"\n",
    "        for b, w in zip(self.biases, self.weights):\n",
    "            a=sigmoid(np.dot(w,a)+b) \n",
    "        return a\n",
    "    \n",
    "    def backprop(self, x, y):\n",
    "        \"\"\"x and y are ndarray of shape (n,1)\"\"\"\n",
    "\n",
    "        pd_b=[np.zeros(b.shape) for b in self.biases]\n",
    "        pd_w=[np.zeros(w.shape) for w in self.weights]\n",
    "        error=[np.zeros((i,1)) for i in self.sizes[1:]]\n",
    "        \n",
    "        activation=x #initial activatio(=input)\n",
    "        zs=[] #list of weighted sums(numpy ndarray of shape (n,1)) for each layer\n",
    "        activations=[] #list of activations(numpy ndarray of shape (n,1)) for each layer\n",
    "        \n",
    "        for b, w in zip(self.biases, self.weights):\n",
    "            z=np.dot(w,activation)+b\n",
    "            zs.append(z)\n",
    "            activation=sigmoid(z)\n",
    "            activations.append(activation) \n",
    "            \"\"\"zs 와 activations 모두 n_layers-1 개의 성분을 가짐\"\"\"\n",
    "        \n",
    "        error[self.n_layers-2]=(activations[-1]-y)*sigmoid_prime(zs[-1])\n",
    "        for i in reversed(range(self.n_layers-2)):\n",
    "            error[i]=np.dot(self.weights[i+1].T,error[i+1])*sigmoid_prime(zs[i])\n",
    "        for i in range(self.n_layers-1):\n",
    "            pd_b[i]=error[i]\n",
    "            pd_w[i]=error[i]*activations[i]\n",
    "        \n",
    "        return pd_w, pd_b\n",
    "    \n",
    "    def learn(self,data,target,epochs,eta):\n",
    "        cost_history=[]\n",
    "        ini=0\n",
    "        for x,y in zip(data,target):\n",
    "            ini+=0.5*np.linalg.norm(y-self.feedforward(x))**2\n",
    "        cost_history.append(ini)\n",
    "        for e in range(epochs):\n",
    "            loss=0\n",
    "            for x,y in zip(data,target):\n",
    "                delta_w,delta_b=self.backprop(x,y)\n",
    "                for j in range(self.n_layers-1):\n",
    "                    self.weights[j]-=eta*delta_w[j]\n",
    "                    self.biases[j]-=eta*delta_b[j]\n",
    "                loss+=0.5*np.linalg.norm(y-self.feedforward(x))**2\n",
    "            cost_history.append(loss)\n",
    "            \n",
    "        plt.plot([i for i in range(epochs+1)],cost_history,'o-')\n",
    "        plt.ylabel(\"cost\")\n",
    "        plt.xlabel(\"epoch\")\n",
    "        plt.show()\n",
    "            \n",
    "        \n",
    "            \n",
    "            "
   ]
  },
  {
   "cell_type": "code",
   "execution_count": 9,
   "metadata": {},
   "outputs": [
    {
     "name": "stdout",
     "output_type": "stream",
     "text": [
      "[array([[0.11635667]]), array([[0.41749836]]), array([[0.22734776]]), array([[0.67626135]])]\n"
     ]
    },
    {
     "data": {
      "image/png": "[encoded data removed]",
      "text/plain": [
       "<Figure size 432x288 with 1 Axes>"
      ]
     },
     "metadata": {
      "needs_background": "light"
     },
     "output_type": "display_data"
    }
   ],
   "source": [
    "result=neural_net([2,30,30,1])\n",
    "s=[result.feedforward(x) for x in X]\n",
    "print(s)\n",
    "result.learn(X,y,10000,0.3)"
   ]
  },
  {
   "cell_type": "code",
   "execution_count": 10,
   "metadata": {},
   "outputs": [
    {
     "name": "stdout",
     "output_type": "stream",
     "text": [
      "[array([[0.00549595]]), array([[0.99647555]]), array([[0.99308856]]), array([[0.00775072]])]\n"
     ]
    }
   ],
   "source": [
    "s=[result.feedforward(x) for x in X]\n",
    "print(s)"
   ]
  },
  {
   "cell_type": "markdown",
   "metadata": {},
   "source": []
  },
  {
   "cell_type": "code",
   "execution_count": null,
   "metadata": {},
   "outputs": [],
   "source": []
  }
 ],
 "metadata": {
  "kernelspec": {
   "display_name": "Python 3 (ipykernel)",
   "language": "python",
   "name": "python3"
  },
  "language_info": {
   "codemirror_mode": {
    "name": "ipython",
    "version": 3
   },
   "file_extension": ".py",
   "mimetype": "text/x-python",
   "name": "python",
   "nbconvert_exporter": "python",
   "pygments_lexer": "ipython3",
   "version": "3.9.7"
  }
 },
 "nbformat": 4,
 "nbformat_minor": 2
}
